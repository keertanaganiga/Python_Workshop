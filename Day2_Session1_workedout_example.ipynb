{
  "nbformat": 4,
  "nbformat_minor": 0,
  "metadata": {
    "colab": {
      "name": "Day2_Session1_workedout_example",
      "provenance": [],
      "authorship_tag": "ABX9TyMa3ee9dnqV3kHh+QNZuc7E",
      "include_colab_link": true
    },
    "kernelspec": {
      "name": "python3",
      "display_name": "Python 3"
    }
  },
  "cells": [
    {
      "cell_type": "markdown",
      "metadata": {
        "id": "view-in-github",
        "colab_type": "text"
      },
      "source": [
        "<a href=\"https://colab.research.google.com/github/keertanaganiga/Python_Workshop/blob/master/Day2_Session1_workedout_example.ipynb\" target=\"_parent\"><img src=\"https://colab.research.google.com/assets/colab-badge.svg\" alt=\"Open In Colab\"/></a>"
      ]
    },
    {
      "cell_type": "code",
      "metadata": {
        "id": "W4DhGwHXgy2k",
        "colab_type": "code",
        "colab": {
          "base_uri": "https://localhost:8080/",
          "height": 141
        },
        "outputId": "73927d9e-f376-4fdb-c422-89e1ae4d2287"
      },
      "source": [
        "#Program to find the largest number in a list.\n",
        "a=[]\n",
        "n=int(input(\"Enter number of elements:\"))\n",
        "for i in range(1,n+1):\n",
        "    b=int(input(\"Enter element:\"))\n",
        "    a.append(b)\n",
        "a.sort()\n",
        "print(\"Largest element is:\",a[n-1])\n"
      ],
      "execution_count": 1,
      "outputs": [
        {
          "output_type": "stream",
          "text": [
            "Enter number of elements:5\n",
            "Enter element:3\n",
            "Enter element:4\n",
            "Enter element:1\n",
            "Enter element:8\n",
            "Enter element:9\n",
            "Largest element is: 9\n"
          ],
          "name": "stdout"
        }
      ]
    },
    {
      "cell_type": "code",
      "metadata": {
        "id": "QdXtUfEBhC1A",
        "colab_type": "code",
        "colab": {
          "base_uri": "https://localhost:8080/",
          "height": 176
        },
        "outputId": "34604b59-7b82-41da-bf15-cf1912addb05"
      },
      "source": [
        "#Python Program to put the even and odd elements in a list into two different lists. \n",
        "a=[]\n",
        "n=int(input(\"Enter number of elements:\"))\n",
        "for i in range(1,n+1):\n",
        "    b=int(input(\"Enter element:\"))\n",
        "    a.append(b)\n",
        "even=[]\n",
        "odd=[]\n",
        "for j in a:\n",
        "    if(j%2==0):\n",
        "        even.append(j)\n",
        "    else:\n",
        "        odd.append(j)\n",
        "print(\"The even list\",even)\n",
        "print(\"The odd list\",odd)\n"
      ],
      "execution_count": 3,
      "outputs": [
        {
          "output_type": "stream",
          "text": [
            "Enter number of elements:6\n",
            "Enter element:56\n",
            "Enter element:45\n",
            "Enter element:78\n",
            "Enter element:34\n",
            "Enter element:33\n",
            "Enter element:66\n",
            "The even list [56, 78, 34, 66]\n",
            "The odd list [45, 33]\n"
          ],
          "name": "stdout"
        }
      ]
    },
    {
      "cell_type": "code",
      "metadata": {
        "id": "6weMoqWfhjvz",
        "colab_type": "code",
        "colab": {
          "base_uri": "https://localhost:8080/",
          "height": 212
        },
        "outputId": "1ca3573d-33a0-4b36-ff32-14dcc151ca3e"
      },
      "source": [
        "#Python Program to merge two lists and sort it.\n",
        "a=[]\n",
        "c=[]\n",
        "n1=int(input(\"Enter number of elements:\"))\n",
        "for i in range(1,n1+1):\n",
        "    b=int(input(\"Enter element:\"))\n",
        "    a.append(b)\n",
        "n2=int(input(\"Enter number of elements:\"))\n",
        "for i in range(1,n2+1):\n",
        "    d=int(input(\"Enter element:\"))\n",
        "    c.append(d)\n",
        "new=a+c\n",
        "new.sort()\n",
        "print(\"Sorted list is:\",new)\n"
      ],
      "execution_count": 4,
      "outputs": [
        {
          "output_type": "stream",
          "text": [
            "Enter number of elements:5\n",
            "Enter element:45\n",
            "Enter element:65\n",
            "Enter element:44\n",
            "Enter element:32\n",
            "Enter element:89\n",
            "Enter number of elements:3\n",
            "Enter element:56\n",
            "Enter element:98\n",
            "Enter element:70\n",
            "Sorted list is: [32, 44, 45, 56, 65, 70, 89, 98]\n"
          ],
          "name": "stdout"
        }
      ]
    },
    {
      "cell_type": "code",
      "metadata": {
        "id": "ixNrvvQNh364",
        "colab_type": "code",
        "colab": {
          "base_uri": "https://localhost:8080/",
          "height": 34
        },
        "outputId": "cb5f23fa-c232-4860-d3fa-7b22b0a87b8d"
      },
      "source": [
        "#Python Program to sort the list according to the second element in the sublist.\n",
        "a=[['A',34],['B',21],['C',26],['E',29]]\n",
        "for i in range(0,len(a)):\n",
        "    for j in range(i+1,len(a)):\n",
        "        if(a[i][1]>a[j][1]):\n",
        "            temp=a[j]\n",
        "            a[j]=a[i]\n",
        "            a[i]=temp\n",
        "print(a)\n"
      ],
      "execution_count": 5,
      "outputs": [
        {
          "output_type": "stream",
          "text": [
            "[['B', 21], ['C', 26], ['E', 29], ['A', 34]]\n"
          ],
          "name": "stdout"
        }
      ]
    },
    {
      "cell_type": "code",
      "metadata": {
        "id": "7pMcHU2DiEAW",
        "colab_type": "code",
        "colab": {
          "base_uri": "https://localhost:8080/",
          "height": 141
        },
        "outputId": "4f10b2bd-66ca-4131-8fe0-bdd8ac420b25"
      },
      "source": [
        "#Python Program to find the second largest number in a list \n",
        "a=[]\n",
        "n=int(input(\"Enter number of elements:\"))\n",
        "for i in range(1,n+1):\n",
        "    b=int(input(\"Enter element:\"))\n",
        "    a.append(b)\n",
        "for i in range(0,len(a)):\n",
        "    for j in range(0,len(a)-i-1):\n",
        "        if(a[j]>a[j+1]):\n",
        "            temp=a[j]\n",
        "            a[j]=a[j+1]\n",
        "            a[j+1]=temp \n",
        "print('Second largest number is:',a[n-2])\n"
      ],
      "execution_count": 6,
      "outputs": [
        {
          "output_type": "stream",
          "text": [
            "Enter number of elements:5\n",
            "Enter element:23\n",
            "Enter element:67\n",
            "Enter element:87\n",
            "Enter element:89\n",
            "Enter element:90\n",
            "Second largest number is: 89\n"
          ],
          "name": "stdout"
        }
      ]
    },
    {
      "cell_type": "code",
      "metadata": {
        "id": "M9n6Pkz_iXHM",
        "colab_type": "code",
        "colab": {
          "base_uri": "https://localhost:8080/",
          "height": 70
        },
        "outputId": "a9afde4f-cb00-40bd-8cc4-3fb93c4872f2"
      },
      "source": [
        "#Program to create a list of tuples with the first element as the number and the second element as the square of the number. \n",
        "l_range=int(input(\"Enter the lower range:\"))\n",
        "u_range=int(input(\"Enter the upper range:\"))\n",
        "a=[(x,x**2) for x in range(l_range,u_range+1)]\n",
        "print(a)\n"
      ],
      "execution_count": 7,
      "outputs": [
        {
          "output_type": "stream",
          "text": [
            "Enter the lower range:2\n",
            "Enter the upper range:7\n",
            "[(2, 4), (3, 9), (4, 16), (5, 25), (6, 36), (7, 49)]\n"
          ],
          "name": "stdout"
        }
      ]
    },
    {
      "cell_type": "code",
      "metadata": {
        "id": "dqm0978-ihto",
        "colab_type": "code",
        "colab": {
          "base_uri": "https://localhost:8080/",
          "height": 52
        },
        "outputId": "36a141d0-1bbb-4b6a-d238-125fb40082e4"
      },
      "source": [
        "#Python Program to generate random numbers from 1 to 20 and append them to the list.\n",
        "\n",
        "import random\n",
        "a=[]\n",
        "n=int(input(\"Enter number of elements:\"))\n",
        "for j in range(n):\n",
        "    a.append(random.randint(1,20))\n",
        "print('Randomised list is: ',a)\n"
      ],
      "execution_count": 8,
      "outputs": [
        {
          "output_type": "stream",
          "text": [
            "Enter number of elements:4\n",
            "Randomised list is:  [10, 8, 13, 5]\n"
          ],
          "name": "stdout"
        }
      ]
    },
    {
      "cell_type": "code",
      "metadata": {
        "id": "MKH6rACx0rZw",
        "colab_type": "code",
        "colab": {
          "base_uri": "https://localhost:8080/",
          "height": 34
        },
        "outputId": "249fba67-4830-49d3-b934-012a7445841c"
      },
      "source": [
        "#Write python program to have a list of words  to sort them from longest to shortest using list of tuples\n",
        " \n",
        "txt = 'but soft what light in yonder window breaks'\n",
        "words = txt.split()\n",
        "t = list()\n",
        "for word in words:\n",
        "   t.append((len(word), word))\n",
        "t.sort(reverse=True)\n",
        "\n",
        "res = list()\n",
        "for length, word in t:\n",
        "    res.append(word)\n",
        "\n",
        "print(res)\n"
      ],
      "execution_count": 9,
      "outputs": [
        {
          "output_type": "stream",
          "text": [
            "['yonder', 'window', 'breaks', 'light', 'what', 'soft', 'but', 'in']\n"
          ],
          "name": "stdout"
        }
      ]
    },
    {
      "cell_type": "code",
      "metadata": {
        "id": "Z2WWMuGp07Mh",
        "colab_type": "code",
        "colab": {
          "base_uri": "https://localhost:8080/",
          "height": 52
        },
        "outputId": "cc49f0a3-4437-49e5-fc31-ae1f94752c32"
      },
      "source": [
        "#Python program that assigns variables\n",
        "\n",
        "# Create packed tuple.\n",
        "pair = (\"dog\", \"cat\")\n",
        "\n",
        "# Unpack tuple.\n",
        "(key, value) = pair\n",
        "\n",
        "# Display unpacked variables.\n",
        "print(key)\n",
        "print(value)\n"
      ],
      "execution_count": 10,
      "outputs": [
        {
          "output_type": "stream",
          "text": [
            "dog\n",
            "cat\n"
          ],
          "name": "stdout"
        }
      ]
    },
    {
      "cell_type": "code",
      "metadata": {
        "id": "Kr1jYcT-0_m6",
        "colab_type": "code",
        "colab": {
          "base_uri": "https://localhost:8080/",
          "height": 52
        },
        "outputId": "4e6490ac-cee4-4bea-be7d-4d94f59078eb"
      },
      "source": [
        "#Python program that searches tuples\n",
        "pair = (\"dog\", \"cat\")\n",
        "\n",
        "# Search for a value.\n",
        "if \"cat\" in pair:\n",
        "    print(\"Cat found\")\n",
        "\n",
        "# Search for a value not present.\n",
        "if \"bird\" not in pair:\n",
        "    print(\"Bird not found\")\n"
      ],
      "execution_count": 11,
      "outputs": [
        {
          "output_type": "stream",
          "text": [
            "Cat found\n",
            "Bird not found\n"
          ],
          "name": "stdout"
        }
      ]
    }
  ]
}