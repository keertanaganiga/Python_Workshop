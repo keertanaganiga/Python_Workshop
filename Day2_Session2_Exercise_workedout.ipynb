{
  "nbformat": 4,
  "nbformat_minor": 0,
  "metadata": {
    "colab": {
      "name": "Day2_Session2_Exercise_workedout",
      "provenance": [],
      "authorship_tag": "ABX9TyPjki5OjAY7T479MnNw/Q+h",
      "include_colab_link": true
    },
    "kernelspec": {
      "name": "python3",
      "display_name": "Python 3"
    }
  },
  "cells": [
    {
      "cell_type": "markdown",
      "metadata": {
        "id": "view-in-github",
        "colab_type": "text"
      },
      "source": [
        "<a href=\"https://colab.research.google.com/github/keertanaganiga/Python_Workshop/blob/master/Day2_Session2_Exercise_workedout.ipynb\" target=\"_parent\"><img src=\"https://colab.research.google.com/assets/colab-badge.svg\" alt=\"Open In Colab\"/></a>"
      ]
    },
    {
      "cell_type": "code",
      "metadata": {
        "id": "uPANa1w4eHaL",
        "colab_type": "code",
        "colab": {
          "base_uri": "https://localhost:8080/",
          "height": 318
        },
        "outputId": "18aacc84-9844-4d65-f917-3bbda60f0a72"
      },
      "source": [
        "'''\n",
        "1.\tAdd rollno and marks {name:mark} for n number of students through keyboard in a dictionary and print the marks in descending order with respective name.\n",
        "'''\n",
        "\n",
        "#Add name and marks {name:mark} for n number of students through keyboard in a dictionary and\n",
        "#print the marks in descending order with respective name.\n",
        "\n",
        "n=int(input(\"Enter no of records\"))\n",
        "d={}\n",
        "for i in range(1,n+1):\n",
        "    name= input(\"Enter name %d: \"%(i))\n",
        "    mark=int(input(\"Enter mark %d: \"%(i)))\n",
        "    d[name]=mark\n",
        "print (d)\n",
        "import operator\n",
        "l= sorted(d.items(), key=operator.itemgetter(1),reverse=True)\n",
        "print(l)\n"
      ],
      "execution_count": 2,
      "outputs": [
        {
          "output_type": "stream",
          "text": [
            "Enter no of records7\n",
            "Enter name 1: kim teahyung\n",
            "Enter mark 1: 8\n",
            "Enter name 2: jungkook\n",
            "Enter mark 2: 67\n",
            "Enter name 3: jimin\n",
            "Enter mark 3: 56\n",
            "Enter name 4: jhope\n",
            "Enter mark 4: 98\n",
            "Enter name 5: rm\n",
            "Enter mark 5: 100\n",
            "Enter name 6: suga\n",
            "Enter mark 6: 45\n",
            "Enter name 7: jin\n",
            "Enter mark 7: 23\n",
            "{'kim teahyung': 8, 'jungkook': 67, 'jimin': 56, 'jhope': 98, 'rm': 100, 'suga': 45, 'jin': 23}\n",
            "[('rm', 100), ('jhope', 98), ('jungkook', 67), ('jimin', 56), ('suga', 45), ('jin', 23), ('kim teahyung', 8)]\n"
          ],
          "name": "stdout"
        }
      ]
    },
    {
      "cell_type": "code",
      "metadata": {
        "id": "zR6_MlRjecBg",
        "colab_type": "code",
        "colab": {
          "base_uri": "https://localhost:8080/",
          "height": 247
        },
        "outputId": "e25b0526-d74e-45c3-f58e-664ff406fb22"
      },
      "source": [
        "'''\n",
        "2.\tAdd  name and salary {name:salary} for n number of employees through keyboard in a dictionary and print them in name alphabetical order with salary\n",
        "'''\n",
        " #Add  name and salary {name:salary} for n number of employees through keyboard in a dictionary\n",
        " #and print them in name alphabetical order with salary\n",
        "\n",
        "n=int(input(\"Enter no of records: \"))\n",
        "d={}\n",
        "for i in range(1,n+1):\n",
        "    name= input(\"Enter name %d: \"%(i))\n",
        "    sal=int(input(\"Enter salary %d: \"%(i)))\n",
        "    d[name]=sal\n",
        "print (d)\n",
        "import operator\n",
        "l= sorted(d.items(), key=operator.itemgetter(0))\n",
        "print(l)\n",
        "\n"
      ],
      "execution_count": 4,
      "outputs": [
        {
          "output_type": "stream",
          "text": [
            "Enter no of records: 5\n",
            "Enter name 1: Parcy\n",
            "Enter salary 1: 29900000\n",
            "Enter name 2: like\n",
            "Enter salary 2: 768770988\n",
            "Enter name 3: jin\n",
            "Enter salary 3: 54677889\n",
            "Enter name 4: jkook\n",
            "Enter salary 4: 5666778\n",
            "Enter name 5: vkook\n",
            "Enter salary 5: 6576764556\n",
            "{'Parcy': 29900000, 'like': 768770988, 'jin': 54677889, 'jkook': 5666778, 'vkook': 6576764556}\n",
            "[('Parcy', 29900000), ('jin', 54677889), ('jkook', 5666778), ('like', 768770988), ('vkook', 6576764556)]\n"
          ],
          "name": "stdout"
        }
      ]
    },
    {
      "cell_type": "code",
      "metadata": {
        "id": "t_0la3ftffaD",
        "colab_type": "code",
        "colab": {
          "base_uri": "https://localhost:8080/",
          "height": 301
        },
        "outputId": "a6520a9a-5e2f-4565-e0ae-05b88c5fa787"
      },
      "source": [
        "'''\n",
        "3.\tAdd  name and salary {name:salary} for n number of employees through keyboard in a dictionary and print them in salary  ascending order and  sum, max, min and average of the salaries\n",
        "'''\n",
        "# Add  name and salary {name:salary} for n number of employees through keyboard in a dictionary\n",
        " #and print the sum, max, min and average of the salaries\n",
        "\n",
        "n=int(input(\"Enter no of records: \"))\n",
        "d={}\n",
        "for i in range(1,n+1):\n",
        "    name= input(\"Enter name %d: \"%(i))\n",
        "    sal=int(input(\"Enter salary %d: \"%(i)))\n",
        "    d[name]=sal\n",
        "print (d)\n",
        "import operator\n",
        "l= sorted(d.items(), key=operator.itemgetter(1))\n",
        "print(l)\n",
        "print('Minimum',l[0])\n",
        "print('Maximum',l[n-1])\n",
        "print('Sum',sum(d.values()))\n"
      ],
      "execution_count": 6,
      "outputs": [
        {
          "output_type": "stream",
          "text": [
            "Enter no of records: 5\n",
            "Enter name 1: keertana\n",
            "Enter salary 1: 65768776\n",
            "Enter name 2: karthik\n",
            "Enter salary 2: 56368736\n",
            "Enter name 3: sujatha\n",
            "Enter salary 3: 7653874687\n",
            "Enter name 4: ganesh\n",
            "Enter salary 4: 56578689709\n",
            "Enter name 5: sathwik\n",
            "Enter salary 5: 6567587908\n",
            "{'keertana': 65768776, 'karthik': 56368736, 'sujatha': 7653874687, 'ganesh': 56578689709, 'sathwik': 6567587908}\n",
            "[('karthik', 56368736), ('keertana', 65768776), ('sathwik', 6567587908), ('sujatha', 7653874687), ('ganesh', 56578689709)]\n",
            "Minimum ('karthik', 56368736)\n",
            "Maximum ('ganesh', 56578689709)\n",
            "Sum 70922289816\n"
          ],
          "name": "stdout"
        }
      ]
    },
    {
      "cell_type": "code",
      "metadata": {
        "id": "nvB2ssdJiQGj",
        "colab_type": "code",
        "colab": {
          "base_uri": "https://localhost:8080/",
          "height": 247
        },
        "outputId": "3a545a85-9eb1-4a6b-f7d5-412f333d1359"
      },
      "source": [
        "'''\n",
        "4.\tAdd name and salary {name:salary} for n number of employees through keyboard in a dictionary and print only the employees whose salary is greater than 2000 but less than 4000\n",
        "'''\n",
        " #  Add name and salary {name:salary} for n number of employees through keyboard in a #dictionary and print only the employeeswhose salary is greater than 2000 but less than 4000\n",
        "\n",
        "n=int(input(\"Enter no of records\"))\n",
        "d={}\n",
        "for i in range(1,n+1):\n",
        "    name= input(\"Enter name %d: \"%(i))\n",
        "    sal=int(input(\"Enter salary %d:\"%(i)))\n",
        "    d[name]=sal\n",
        "print (d)\n",
        "\n",
        "l=[(k,v) for (k,v) in d.items() if v>2000 and v<4000]\n",
        "print(l)\n"
      ],
      "execution_count": 8,
      "outputs": [
        {
          "output_type": "stream",
          "text": [
            "Enter no of records5\n",
            "Enter name 1: jungkook\n",
            "Enter salary 1:6788934\n",
            "Enter name 2: v\n",
            "Enter salary 2:56677898\n",
            "Enter name 3: jhope\n",
            "Enter salary 3:65732873\n",
            "Enter name 4: jimin\n",
            "Enter salary 4:676789809\n",
            "Enter name 5: karma\n",
            "Enter salary 5:8732983209\n",
            "{'jungkook': 6788934, 'v': 56677898, 'jhope': 65732873, 'jimin': 676789809, 'karma': 8732983209}\n",
            "[]\n"
          ],
          "name": "stdout"
        }
      ]
    },
    {
      "cell_type": "code",
      "metadata": {
        "id": "9ikuYuU9joGZ",
        "colab_type": "code",
        "colab": {
          "base_uri": "https://localhost:8080/",
          "height": 52
        },
        "outputId": "6ee23522-005e-4287-b71e-22aa35a8e455"
      },
      "source": [
        "'''\n",
        "5.\tPython program to convert a 3 digit number  into words\n",
        "'''\n",
        "#Python program to convert 3  digit number into words\n",
        "\n",
        "def inttoword(num):\n",
        "   if (num<=20):\n",
        "      print(d[num])\n",
        "   if(num>20 and num<100):\n",
        "      if num%10==0:       \n",
        "         print(d[num])\n",
        "      else:\n",
        "         print(d[num//10*10]+\" \"+d[num%10])\n",
        "   if(num>=100 and num<1000):\n",
        "      if num%100==0:       \n",
        "         print(d[num//100]+\" \"+d[100])\n",
        "      if (num%100!=0 and (num%100)%10==0):\n",
        "         print(d[num//100]+\" \"+d[100]+\" \"+d[( num%100)])\n",
        "      elif (num%100!=0) and ((num%10)%10!=0):\n",
        "         print(d[num//100]+\" \"+d[100]+\" \"+d[(num%100)-(num%10)]+\" \"+d[num%10])\n",
        "   return\n",
        "\n",
        "d={0:'',1:'one',2:'two',3:'three',4:'four',5:'five',6:'six',7:'seven',8:'eight',9:'nine',\\\n",
        "   10:'ten',11:'eleven',12:'twelve',13:'thirteen',14:'fourteen',15:'fifteen',16:'sixteen',\\\n",
        "   17:'seventeen',18:'eightteen',19:'nineteen',20:'twenty',30:'thirty',40:'fourty',50:'fifty',\\\n",
        "   60:'sixty',70:'seventy',80:'eighty',90:'ninty',100:'hundred'}\n",
        "\n",
        "num=int(input(\"Enter the integer between 1 to 99:\"))\n",
        "\n",
        "inttoword(num)\n"
      ],
      "execution_count": 10,
      "outputs": [
        {
          "output_type": "stream",
          "text": [
            "Enter the integer between 1 to 99:88\n",
            "eighty eight\n"
          ],
          "name": "stdout"
        }
      ]
    },
    {
      "cell_type": "code",
      "metadata": {
        "id": "KI9Z7GwEkZjg",
        "colab_type": "code",
        "colab": {}
      },
      "source": [
        "'''\n",
        "1.\tPython Program to count the total number of charaters (except blank space) in a text file.\n",
        "'''\n",
        "#Program to count the occurrences of a letter in a text file.\n",
        "fname = input(\"Enter file name: \")\n",
        "num_words = 0\n",
        "ccount=0\n",
        "with open(fname, 'r') as f:\n",
        "    for line in f:\n",
        "        words = line.split()\n",
        "        for w in words:\n",
        "           for ch in w:\n",
        "              ccount=ccount+1\n",
        "print(\"Number of character:\")\n",
        "print(ccount)\n"
      ],
      "execution_count": 16,
      "outputs": []
    },
    {
      "cell_type": "code",
      "metadata": {
        "id": "-lxodUCxkruP",
        "colab_type": "code",
        "colab": {}
      },
      "source": [
        "'''\n",
        "2.\tPython Program to print all the numbers present in a text file with its total number of occurrence.\n",
        "'''\n",
        "#Program to count the occurrences of a numbers in a text file.\n",
        "fname = input(\"Enter file name: \")\n",
        "\n",
        "num = 0\n",
        "ccount=0\n",
        "with open(fname, 'r') as f:\n",
        "    for line in f:\n",
        "        words = line.split()\n",
        "        for w in words:\n",
        "          if w.isdigit():\n",
        "             print(w)\n",
        "             num+=1\n",
        "        \n",
        "print(\"Total occurenece of numbers are:\")\n",
        "print(num)\n"
      ],
      "execution_count": 17,
      "outputs": []
    },
    {
      "cell_type": "code",
      "metadata": {
        "id": "znpR2L-8lqA-",
        "colab_type": "code",
        "colab": {}
      },
      "source": [
        "'''\n",
        "3.\tPython Program to append the contents of one file to another file by getting the both file names through keyboard . \n",
        "'''\n",
        "# Python Program to append the contents of one file\n",
        "#to another file by getting the both file names through keyboard . \n",
        "\n",
        "rfile=input('Enter the file to be read')\n",
        "wfile=input('Enter the file to be appended with')\n",
        "\n",
        "with open(rfile,\"r\") as f:\n",
        "    with open(wfile,\"a\") as f1:\n",
        "        for line in f:\n",
        "            f1.write(line)\n",
        "f.close()\n",
        "f1.close()\n",
        "\n",
        "with open(wfile,\"r\") as f:\n",
        "   for line in f:\n",
        "      print(line)\n"
      ],
      "execution_count": 18,
      "outputs": []
    },
    {
      "cell_type": "code",
      "metadata": {
        "id": "PFoYNJD-lwFe",
        "colab_type": "code",
        "colab": {}
      },
      "source": [
        "4.\tPython Program to count the number of blank spaces in a text file. \n",
        "\t#Program to count the occurrences of blank spaces  in a text file.\n",
        "fname = input(\"Enter file name: \")\n",
        "\n",
        "n= 0\n",
        "t=0\n",
        "ccount=0\n",
        "with open(fname, 'r') as f:\n",
        "    for line in f:\n",
        "        n = line.count(' ')\n",
        "        t+=n     \n",
        "print(\"Number of blank spaces are:\")\n",
        "print(t)\n"
      ],
      "execution_count": null,
      "outputs": []
    },
    {
      "cell_type": "code",
      "metadata": {
        "id": "sIokunozl9pN",
        "colab_type": "code",
        "colab": {}
      },
      "source": [
        "5.\tPython Program to read a file and capitalize the first letter of every word in the file and copy the every word capitalized content  into another file and read it .\n",
        "\t\n",
        "fname = input(\"Enter file name: \")\n",
        "f1=open(\"d.txt\",\"w\")\n",
        "ccount=0\n",
        "with open(fname, 'r') as f:\n",
        "    for line in f:\n",
        "        l= line.title()\n",
        "        f1.write(l)\n",
        "f1.close()\n",
        "with open(\"d.txt\", 'r') as f1:\n",
        "    for line in f1:\n",
        "        print(line)\n"
      ],
      "execution_count": null,
      "outputs": []
    }
  ]
}